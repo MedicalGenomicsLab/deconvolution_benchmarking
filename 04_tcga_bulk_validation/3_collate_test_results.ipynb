{
 "cells": [
  {
   "cell_type": "markdown",
   "id": "58b7cc55-3b46-46c2-bdd6-6e34ffdc37f1",
   "metadata": {},
   "source": [
    "# Collate model predictions from purity-level partitions"
   ]
  },
  {
   "cell_type": "code",
   "execution_count": null,
   "id": "b09a63a1-8e52-493c-b685-5a419fa97191",
   "metadata": {},
   "outputs": [],
   "source": [
    "import numpy as np\n",
    "import pandas as pd\n",
    "import anndata as adata\n",
    "import scanpy as sc\n",
    "\n",
    "from tqdm import tqdm\n",
    "from pathlib import Path\n",
    "from typing import Tuple, List, Dict\n",
    "\n",
    "import plotly.graph_objects as go\n",
    "import plotly as plotly\n",
    "import plotly.express as px\n",
    "\n",
    "%load_ext blackcellmagic"
   ]
  },
  {
   "cell_type": "code",
   "execution_count": null,
   "id": "d52cef7f-433e-4db0-8f5f-942d374522df",
   "metadata": {},
   "outputs": [],
   "source": [
    "prefix = \"???/deconvolution_benchmarking/04_tcga_bulk_validation\"\n",
    "c_types = [\n",
    "    \"Cancer Epithelial\",\n",
    "    \"Normal Epithelial\",\n",
    "    \"T-cells\",\n",
    "    \"B-cells\",\n",
    "    \"Myeloid\",\n",
    "    \"Endothelial\",\n",
    "    \"CAFs\",\n",
    "    \"PVL\",\n",
    "    \"Plasmablasts\",\n",
    "]"
   ]
  },
  {
   "cell_type": "markdown",
   "id": "b6fcc9c0-de70-498e-9bf9-d677e877a119",
   "metadata": {},
   "source": [
    "### CIBERSORTx"
   ]
  },
  {
   "cell_type": "code",
   "execution_count": null,
   "id": "571e2eea",
   "metadata": {},
   "outputs": [],
   "source": [
    "# If we run in normal mode, the results file is called CIBERSORTx_Results\n",
    "# If we run in Smode or Bmode, the results file will be called CIBERSORTx_Adjusted.txt\n",
    "# Adjust the filename accordingy\n",
    "results_f = \"CIBERSORTx_Adjusted.txt\"\n",
    "\n",
    "# Read and reorganize  index and columns to match truth_df\n",
    "preds_df = pd.read_csv(\n",
    "    Path(prefix).joinpath(f\"data/cbx/results/{results_f}\"),\n",
    "    sep=\"\\t\",\n",
    "    index_col=0,\n",
    ")\n",
    "\n",
    "# Save predictions\n",
    "preds_df.to_csv(Path(prefix).joinpath(\"data/results/cbx.csv\"), sep=\"\\t\")"
   ]
  },
  {
   "cell_type": "markdown",
   "id": "41e4b1f2-ef03-4f8f-a5de-3da2884fc6cd",
   "metadata": {},
   "source": [
    "### Scaden"
   ]
  },
  {
   "cell_type": "code",
   "execution_count": null,
   "id": "c223be65-2e97-4cb4-92ea-bf5621cc7203",
   "metadata": {},
   "outputs": [],
   "source": [
    "model = \"filtered_ensembl_id\"\n",
    "\n",
    "preds_df = pd.read_csv(\n",
    "    Path(prefix).joinpath(f\"data/scaden/{model}/results.txt\"),\n",
    "    sep=\"\\t\",\n",
    "    index_col=0,\n",
    ")\n",
    "\n",
    "# Save predictions\n",
    "preds_df.to_csv(Path(prefix).joinpath(\"data/results/scaden.csv\"), sep=\"\\t\")"
   ]
  },
  {
   "cell_type": "markdown",
   "id": "fb013ab5-c4d4-4556-baaf-93229c915b70",
   "metadata": {},
   "source": [
    "### EPIC"
   ]
  },
  {
   "cell_type": "markdown",
   "id": "c131cba6",
   "metadata": {},
   "source": [
    "#### If we're using default reference profiles"
   ]
  },
  {
   "cell_type": "code",
   "execution_count": null,
   "id": "be7c37a5-6a63-46d8-91b9-58b9806e15d1",
   "metadata": {},
   "outputs": [],
   "source": [
    "# Read and reorganize  index and columns to match truth_df\n",
    "preds_df = pd.read_csv(\n",
    "    Path(prefix).joinpath(f\"data/epic/cbx_sig_matrix/results/results.csv\"),\n",
    "    sep=\",\",\n",
    "    index_col=0,\n",
    ")\n",
    "\n",
    "# EPIC replaces \"-\" by \".\" and adds \"X\" to the beginning of uuid that starts with a number\n",
    "# Revert these\n",
    "preds_df.index = [i.replace(\".\", \"-\") for i in preds_df.index]\n",
    "preds_df.index = [i.split(\"X\")[1] if i[0] == \"X\" else i for i in preds_df.index]\n",
    "\n",
    "# Fix up column names\n",
    "preds_df.rename(\n",
    "    columns={\n",
    "        \"otherCells\": \"Cancer Epithelial\",\n",
    "        \"B.cells\": \"B-cells\",\n",
    "        \"T.cells\": \"T-cells\",\n",
    "        \"Normal.Epithelial\": \"Normal Epithelial\",\n",
    "    },\n",
    "    inplace=True,\n",
    ")\n",
    "\n",
    "# Save predictions\n",
    "preds_df.to_csv(Path(prefix).joinpath(\"data/results/epic.csv\"), sep=\"\\t\")"
   ]
  },
  {
   "cell_type": "markdown",
   "id": "09c5b216",
   "metadata": {},
   "source": [
    "### CPM"
   ]
  },
  {
   "cell_type": "markdown",
   "id": "08496048",
   "metadata": {},
   "source": [
    "We ran 4 CPM experiments:<br>\n",
    "- Only selected 1,330 cells per type (for computational reasons) <br>\n",
    "    - [Done] with cell state space generated from only training patients <br>\n",
    "    - [] with cell state space generated from all patients (with test patients filtered out after cell state space is constructed). <br><br>\n",
    "- Selected all cells per type <br>\n",
    "    - [Done] with cell state space generated from only training patients <br>\n",
    "    - [] with cell state space generated from all patients (with test patients filtered out after cell state space is constructed). "
   ]
  },
  {
   "cell_type": "code",
   "execution_count": null,
   "id": "59ad1c0b",
   "metadata": {},
   "outputs": [],
   "source": [
    "# Select which experiments we'd like to generate results for\n",
    "experiment = \"expr_2_original_cellstate_1330_per_ctype/\"\n",
    "\n",
    "# Read and reorganize  index and columns to match truth_df\n",
    "preds_df = pd.read_csv(\n",
    "    Path(prefix).joinpath(f\"data/cpm/{experiment}/results/results.csv\"),\n",
    "    sep=\",\",\n",
    "    index_col=0,\n",
    ")\n",
    "\n",
    "# CPM replaces \"-\" by \".\" and adds \"X\" to the beginning of uuid that starts with a number\n",
    "# Revert these\n",
    "preds_df.index = [i.replace(\".\", \"-\") for i in preds_df.index]\n",
    "preds_df.index = [i.split(\"X\")[1] if i[0] == \"X\" else i for i in preds_df.index]\n",
    "\n",
    "# Save predictions\n",
    "preds_df.to_csv(Path(prefix).joinpath(\"data/results/cpm.csv\"), sep=\"\\t\")"
   ]
  },
  {
   "cell_type": "markdown",
   "id": "64a9ce78",
   "metadata": {},
   "source": [
    "### bisque"
   ]
  },
  {
   "cell_type": "code",
   "execution_count": null,
   "id": "e14da92d",
   "metadata": {},
   "outputs": [],
   "source": [
    "expt = \"linear\"\n",
    "\n",
    "# Read predictions\n",
    "preds_df = pd.read_csv(\n",
    "    Path(prefix).joinpath(f\"data/bisque/results_{expt}/results.csv\"),\n",
    "    sep=\",\",\n",
    "    index_col=0,\n",
    ").T\n",
    "\n",
    "# CPM replaces \"-\" by \".\" and adds \"X\" to the beginning of uuid that starts with a number\n",
    "# Revert these\n",
    "preds_df.index = [i.replace(\".\", \"-\") for i in preds_df.index]\n",
    "preds_df.index = [i.split(\"X\")[1] if i[0] == \"X\" else i for i in preds_df.index]\n",
    "\n",
    "# Save predictions\n",
    "preds_df.to_csv(Path(prefix).joinpath(f\"data/results/bisque_{expt}.csv\"), sep=\"\\t\")"
   ]
  },
  {
   "cell_type": "markdown",
   "id": "1a60dd49",
   "metadata": {},
   "source": [
    "### DWLS"
   ]
  },
  {
   "cell_type": "code",
   "execution_count": null,
   "id": "253fab74",
   "metadata": {},
   "outputs": [],
   "source": [
    "sig_matrix_build_method = \"seurat\"\n",
    "\n",
    "# Read and reorganize  index and columns to match truth_df\n",
    "preds_df = pd.read_csv(\n",
    "    Path(prefix).joinpath(f\"data/dwls/results_{sig_matrix_build_method}/results.csv\"),\n",
    "    sep=\",\",\n",
    "    index_col=0,\n",
    ").T\n",
    "\n",
    "# CPM replaces \"-\" by \".\" and adds \"X\" to the beginning of uuid that starts with a number\n",
    "# Revert these\n",
    "preds_df.index = [i.replace(\".\", \"-\") for i in preds_df.index]\n",
    "preds_df.index = [i.split(\"X\")[1] if i[0] == \"X\" else i for i in preds_df.index]\n",
    "\n",
    "# Fix up column names\n",
    "preds_df.rename(\n",
    "    columns={\n",
    "        \"T_cells\": \"T-cells\",\n",
    "        \"B_cells\": \"B-cells\",\n",
    "        \"Normal_Epithelial\": \"Normal Epithelial\",\n",
    "        \"Cancer_Epithelial\": \"Cancer Epithelial\",\n",
    "    },\n",
    "    inplace=True,\n",
    ")\n",
    "# Save predictions\n",
    "\n",
    "preds_df.to_csv(\n",
    "    Path(prefix).joinpath(f\"data/results/dwls_{sig_matrix_build_method}.csv\"), sep=\"\\t\"\n",
    ")"
   ]
  },
  {
   "cell_type": "markdown",
   "id": "f699990e",
   "metadata": {},
   "source": [
    "## MuSiC"
   ]
  },
  {
   "cell_type": "code",
   "execution_count": null,
   "id": "d037fdad",
   "metadata": {},
   "outputs": [],
   "source": [
    "# Read and reorganize  index and columns to match truth_df\n",
    "preds_df = pd.read_csv(\n",
    "    Path(prefix).joinpath(f\"data/music/results/results.csv\"),\n",
    "    sep=\",\",\n",
    "    index_col=0,\n",
    ")\n",
    "\n",
    "# CPM replaces \"-\" by \".\" and adds \"X\" to the beginning of uuid that starts with a number\n",
    "# Revert these\n",
    "preds_df.index = [i.replace(\".\", \"-\") for i in preds_df.index]\n",
    "preds_df.index = [i.split(\"X\")[1] if i[0] == \"X\" else i for i in preds_df.index]\n",
    "\n",
    "# Save predictions\n",
    "preds_df.to_csv(Path(prefix).joinpath(\"data/results/music.csv\"), sep=\"\\t\")"
   ]
  },
  {
   "cell_type": "markdown",
   "id": "8638ce88",
   "metadata": {},
   "source": [
    "## hspe"
   ]
  },
  {
   "cell_type": "code",
   "execution_count": null,
   "id": "d97b8a8b",
   "metadata": {},
   "outputs": [],
   "source": [
    "# Make an empty list to store predictions of each partition\n",
    "preds_l = []\n",
    "\n",
    "# Iterate over each of the 20 partitions\n",
    "for partition in list(range(0, 20, 1)):\n",
    "    # Read and reorganize  index and columns to match truth_df\n",
    "    subset_preds_df = pd.read_csv(\n",
    "        Path(prefix).joinpath(f\"data/hspe/results/{partition}/results.csv\"),\n",
    "        sep=\",\",\n",
    "        index_col=0,\n",
    "    )\n",
    "\n",
    "    # Fix up column names\n",
    "    subset_preds_df.rename(\n",
    "        columns={\n",
    "            \"T_cells\": \"T-cells\",\n",
    "            \"B_cells\": \"B-cells\",\n",
    "            \"Normal_Epithelial\": \"Normal Epithelial\",\n",
    "            \"Cancer_Epithelial\": \"Cancer Epithelial\",\n",
    "        },\n",
    "        inplace=True,\n",
    "    )\n",
    "\n",
    "    preds_l.append(subset_preds_df)\n",
    "\n",
    "preds_df = pd.concat(preds_l, axis=0)\n",
    "\n",
    "# Save predictions\n",
    "preds_df.to_csv(Path(prefix).joinpath(\"data/results/hspe.csv\"), sep=\"\\t\")"
   ]
  },
  {
   "cell_type": "markdown",
   "id": "e756e525",
   "metadata": {},
   "source": [
    "## BayesPrism v2"
   ]
  },
  {
   "cell_type": "code",
   "execution_count": null,
   "id": "758b0b09",
   "metadata": {},
   "outputs": [],
   "source": [
    "# We run BayesPrism v2 in different experiments. Decided which set of results to pull\n",
    "# Experiment name will also be results file's suffix\n",
    "expt = \"marker_genes_cell_states\"\n",
    "\n",
    "# Read and reorganize  index and columns to match truth_df\n",
    "preds_df = pd.read_csv(\n",
    "    Path(prefix).joinpath(f\"data/bprism_v2/results_{expt}/results.csv\"),\n",
    "    sep=\",\",\n",
    "    index_col=0,\n",
    ")\n",
    "\n",
    "# CPM replaces \"-\" by \".\" and adds \"X\" to the beginning of uuid that starts with a number\n",
    "# Revert these\n",
    "preds_df.index = [i.replace(\".\", \"-\") for i in preds_df.index]\n",
    "preds_df.index = [i.split(\"X\")[1] if i[0]==\"X\" else i for i in preds_df.index]\n",
    "\n",
    "# Fix up column names\n",
    "preds_df.rename(\n",
    "    columns={\n",
    "        \"T_cells\": \"T-cells\",\n",
    "        \"B_cells\": \"B-cells\",\n",
    "        \"Normal_Epithelial\": \"Normal Epithelial\",\n",
    "        \"Cancer_Epithelial\": \"Cancer Epithelial\",\n",
    "    },\n",
    "    inplace=True,\n",
    ")\n",
    "\n",
    "    subset_truth_df = truth_df[truth_df[\"Cancer Epithelial\"] == pur_lvl]\n",
    "\n",
    "    # Calcuate preds-truth for each purity level\n",
    "    diff_df = abs(subset_preds_df[c_types].sort_index() - subset_truth_df.sort_index())\n",
    "    # diff_df = subset_preds_df[c_types] - subset_truth_df\n",
    "    avg_diff = diff_df.mean().to_frame()\n",
    "    avg_diff.columns = [pur_lvl]\n",
    "\n",
    "    avg_diff_l.append(avg_diff)\n",
    "    preds_l.append(subset_preds_df)\n",
    "\n",
    "avg_diff_df = pd.concat(avg_diff_l, axis=1)\n",
    "preds_df = pd.concat(preds_l, axis=0)"
   ]
  },
  {
   "cell_type": "code",
   "execution_count": null,
   "id": "87bd86ad",
   "metadata": {},
   "outputs": [],
   "source": []
  }
 ],
 "metadata": {
  "interpreter": {
   "hash": "dfb0927764d27f145629eedaf79a66bcb392b692d420efd895554b6372e47c95"
  },
  "kernelspec": {
   "display_name": "Python 3.8.3 ('base')",
   "language": "python",
   "name": "python3"
  },
  "language_info": {
   "codemirror_mode": {
    "name": "ipython",
    "version": 3
   },
   "file_extension": ".py",
   "mimetype": "text/x-python",
   "name": "python",
   "nbconvert_exporter": "python",
   "pygments_lexer": "ipython3"
  }
 },
 "nbformat": 4,
 "nbformat_minor": 5
}
