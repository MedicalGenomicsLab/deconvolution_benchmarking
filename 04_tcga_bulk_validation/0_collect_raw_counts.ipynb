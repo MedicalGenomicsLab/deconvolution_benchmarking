{
 "cells": [
  {
   "attachments": {},
   "cell_type": "markdown",
   "metadata": {},
   "source": [
    "## Collect single-cell and bulk counts from source directories"
   ]
  },
  {
   "cell_type": "code",
   "execution_count": null,
   "metadata": {},
   "outputs": [],
   "source": [
    "import re\n",
    "import gtfparse\n",
    "\n",
    "import pandas as pd\n",
    "import numpy as np\n",
    "import scanpy as sc\n",
    "import anndata as adata\n",
    "import plotly.express as px\n",
    "\n",
    "from tqdm import tqdm\n",
    "from pathlib import Path\n",
    "\n",
    "%load_ext blackcellmagic"
   ]
  },
  {
   "cell_type": "code",
   "execution_count": null,
   "metadata": {},
   "outputs": [],
   "source": [
    "# Working directory\n",
    "prefix = \"???/deconvolution_benchmarking/04_tcga_bulk_validation\""
   ]
  },
  {
   "cell_type": "code",
   "execution_count": null,
   "metadata": {},
   "outputs": [],
   "source": [
    "# Training patient IDs\n",
    "train_p_ids = [\n",
    "    \"CID3586\",\n",
    "    \"CID3941\",\n",
    "    \"CID3963\",\n",
    "    \"CID44041\",\n",
    "    \"CID4530N\",\n",
    "    \"CID3838\",\n",
    "    \"CID3946\",\n",
    "    \"CID4040\",\n",
    "    \"CID4461\",\n",
    "    \"CID44991\",\n",
    "    \"CID45171\",\n",
    "    \"CID4535\",\n",
    "    \"CID3948\",\n",
    "    \"CID4398\",\n",
    "    \"CID4463\",\n",
    "    \"CID4495\",\n",
    "    \"CID4513\",\n",
    "    \"CID4465\",\n",
    "]\n",
    "# Training patient IDs\n",
    "test_p_ids = [\n",
    "    \"CID4067\",\n",
    "    \"CID4290A\",\n",
    "    \"CID4471\",\n",
    "    \"CID3921\",\n",
    "    \"CID4066\",\n",
    "    \"CID4523\",\n",
    "    \"CID44971\",\n",
    "    \"CID4515\",\n",
    "]"
   ]
  },
  {
   "attachments": {},
   "cell_type": "markdown",
   "metadata": {},
   "source": [
    "## QC TCGA\n",
    "Filter out samples with:\n",
    "- Intragenic rate > 0.95\n",
    "- 90% reads mapping to protein-coding regions"
   ]
  },
  {
   "cell_type": "code",
   "execution_count": null,
   "metadata": {},
   "outputs": [],
   "source": [
    "# UUID regex for TCGA\n",
    "tcga_uuid_regex = (\n",
    "    r\"[a-f0-9]{8}-?[a-f0-9]{4}-?4[a-f0-9]{3}-?[89ab][a-f0-9]{3}-?[a-f0-9]{12}\\Z\"\n",
    ")\n",
    "\n",
    "# Load RNA-SeQC report\n",
    "tcga_seqc_report_df = pd.read_csv(\n",
    "    Path(prefix).joinpath(\n",
    "        \"data/raw/tcga_bulk/TCGA_-_breast_cancer_GRCh38_v84.RNA-SeQC_Report.tsv\"\n",
    "    ),\n",
    "    index_col=0,\n",
    "    sep=\"\\t\",\n",
    ")"
   ]
  },
  {
   "cell_type": "code",
   "execution_count": null,
   "metadata": {},
   "outputs": [],
   "source": [
    "# Load raw counts\n",
    "tcga_raw_df = pd.read_csv(\n",
    "    Path(prefix).joinpath(\n",
    "        \"data/raw/tcga_bulk/TCGA_-_breast_cancer_GRCh38_v84.genes.ExpectedCounts.csv\"\n",
    "    ),\n",
    "    index_col=0,\n",
    "    sep=\",\",\n",
    ")\n",
    "\n",
    "# Columns with duplicated uuid are read as \"1b907925-b33c-4e4a-96e0-65f15b4712b9.1\"\n",
    "# Remove the \".*\"\n",
    "tcga_raw_df.columns = [i.split(\".\")[0] for i in tcga_raw_df.columns]\n",
    "\n",
    "# Split raw into counts and metadata dataframe\n",
    "tcga_raw_counts_df = tcga_raw_df[\n",
    "    [i for i in tcga_raw_df.columns if re.match(tcga_uuid_regex, i)]\n",
    "]\n",
    "tcga_raw_meta_df = tcga_raw_df[\n",
    "    [i for i in tcga_raw_df.columns if not re.match(tcga_uuid_regex, i)]\n",
    "]\n",
    "\n",
    "# Drop duplicated rows (with same gene counts)\n",
    "tcga_raw_counts_df = tcga_raw_counts_df.T.drop_duplicates().T"
   ]
  },
  {
   "cell_type": "code",
   "execution_count": null,
   "metadata": {},
   "outputs": [],
   "source": [
    "# RNA-SeQC report has 11 samples that were run through CellRanger multiple times\n",
    "# Remove these duplicates and keep the one with highest Intragenic Rate\n",
    "tcga_seqc_report_df = (\n",
    "    tcga_seqc_report_df.reset_index()\n",
    "    .sort_values([\"Sample\", \"Intragenic Rate\"], ascending=False)\n",
    "    .drop_duplicates(subset=[\"Sample\"], keep=\"first\")\n",
    "    .set_index([\"Sample\"])\n",
    ")"
   ]
  },
  {
   "attachments": {},
   "cell_type": "markdown",
   "metadata": {},
   "source": [
    "#### Plot stacked bar chart of Intergenic Rate & Intragenic Rate (Intronic Rate, Exonic Rate)"
   ]
  },
  {
   "cell_type": "code",
   "execution_count": null,
   "metadata": {},
   "outputs": [],
   "source": [
    "plot_inter_intra_df = (\n",
    "    tcga_seqc_report_df[[\"Intergenic Rate\", \"Intronic Rate\", \"Exonic Rate\"]]\n",
    "    .sort_values([\"Intergenic Rate\", \"Exonic Rate\"], ascending=False)\n",
    "    .reset_index()\n",
    "    .melt(\n",
    "        id_vars=[\"Sample\"],\n",
    "        value_vars=[\"Intergenic Rate\", \"Intronic Rate\", \"Exonic Rate\"],\n",
    "    )\n",
    ")\n",
    "plot_inter_intra_df.rename(\n",
    "    columns={\"variable\": \"Type\", \"value\": \"Proportion\"}, inplace=True\n",
    ")"
   ]
  },
  {
   "cell_type": "code",
   "execution_count": null,
   "metadata": {},
   "outputs": [],
   "source": [
    "fig = px.bar(\n",
    "    plot_inter_intra_df,\n",
    "    x=\"Sample\",\n",
    "    color=\"Type\",\n",
    "    y=\"Proportion\",\n",
    "    category_orders={\"Type\": [\"Exonic Rate\", \"Intronic Rate\", \"Intergenic Rate\"]},\n",
    ")\n",
    "\n",
    "# By default opacity is 50%. Set it to 100%\n",
    "fig.update_traces(opacity=1)\n",
    "\n",
    "# Add horizontal line at 95%\n",
    "fig.add_hline(y=0.95, line_width=0.5)\n",
    "\n",
    "# Update axes\n",
    "fig.update_xaxes(\n",
    "    title_standoff=5,\n",
    "    title_font_size=10,\n",
    "    linecolor=\"black\",\n",
    "    linewidth=0.5,\n",
    "    # ticks=\"outside\",\n",
    "    showticklabels=False,\n",
    "    tickfont_size=8,\n",
    "    ticklen=2,\n",
    "    tickwidth=0.5,\n",
    ")\n",
    "fig.update_yaxes(\n",
    "    title_standoff=5,\n",
    "    title_font_size=10,\n",
    "    linecolor=\"black\",\n",
    "    linewidth=0.5,\n",
    "    ticks=\"outside\",\n",
    "    showticklabels=True,\n",
    "    tickfont_size=8,\n",
    "    ticklen=2,\n",
    "    tickwidth=0.5,\n",
    "    dtick=0.1,\n",
    ")\n",
    "\n",
    "# Update layout\n",
    "fig[\"layout\"].update(\n",
    "    font_size=10,\n",
    "    plot_bgcolor=\"rgba(0,0,0,0)\",\n",
    "    legend=dict(title_font_size=8, font_size=6),\n",
    "    showlegend=True,\n",
    "    newshape=dict(opacity=1),\n",
    "    margin=dict(t=0, l=0, r=0, b=0),  # Tight margin\n",
    ")\n",
    "\n",
    "fig.write_image(\n",
    "    Path(prefix).joinpath(\"figures/intragenic_filtering\").with_suffix(\".png\"),\n",
    "    scale=4,\n",
    "    width=1000,\n",
    "    height=250,\n",
    ")"
   ]
  },
  {
   "attachments": {},
   "cell_type": "markdown",
   "metadata": {},
   "source": [
    "#### Corresponding with conclusion from stacked bar chart, filter out samples with intragenic rate < 95%"
   ]
  },
  {
   "cell_type": "code",
   "execution_count": null,
   "metadata": {},
   "outputs": [],
   "source": [
    "# First filter samples from RNA-SeQC report\n",
    "filtered_tcga_seqc_report_df = tcga_seqc_report_df[\n",
    "    tcga_seqc_report_df[\"Intragenic Rate\"] > 0.95\n",
    "]\n",
    "\n",
    "# Then use filtered indexes to grab sample according\n",
    "filtered_tcga_raw_counts_df = tcga_raw_counts_df[filtered_tcga_seqc_report_df.index]"
   ]
  },
  {
   "attachments": {},
   "cell_type": "markdown",
   "metadata": {},
   "source": [
    "#### Plot stacked bar chart of reads mapped to gene biotypes"
   ]
  },
  {
   "cell_type": "code",
   "execution_count": null,
   "metadata": {},
   "outputs": [],
   "source": [
    "# Merge with \"Gene Biotype\" column of metadata\n",
    "filtered_tcga_raw_df = tcga_raw_meta_df[[\"Gene Biotype\"]].merge(\n",
    "    filtered_tcga_raw_counts_df, left_index=True, right_index=True\n",
    ")\n",
    "\n",
    "# Get total counts mapped to each gene biotype for each sample\n",
    "gene_biotype_counts_df = (\n",
    "    filtered_tcga_raw_df.groupby([\"Gene Biotype\"]).sum().sort_index().T\n",
    ")\n",
    "gene_biotype_pct_df = gene_biotype_counts_df.div(\n",
    "    gene_biotype_counts_df.sum(axis=1), axis=0\n",
    ")\n",
    "gene_biotype_pct_df.sort_values([\"protein_coding\"], ascending=True, inplace=True)"
   ]
  },
  {
   "cell_type": "code",
   "execution_count": null,
   "metadata": {},
   "outputs": [],
   "source": [
    "# Pivot gene_biotype_pct_df longer\n",
    "pivoted_gene_biotype_pct_df = (\n",
    "    gene_biotype_pct_df.reset_index()\n",
    "    .melt(\n",
    "        id_vars=\"index\",\n",
    "    )\n",
    "    .rename(columns={\"index\": \"Sample\", \"value\": \"Proportion\"})\n",
    ")"
   ]
  },
  {
   "cell_type": "code",
   "execution_count": null,
   "metadata": {},
   "outputs": [],
   "source": [
    "order = [\n",
    "    \"protein_coding\",\n",
    "    \"vault_RNA\",\n",
    "    \"unprocessed_pseudogene\",\n",
    "    \"unitary_pseudogene\",\n",
    "    \"translated_unprocessed_pseudogene\",\n",
    "    \"translated_processed_pseudogene\",\n",
    "    \"transcribed_unprocessed_pseudogene\",\n",
    "    \"transcribed_unitary_pseudogene\",\n",
    "    \"transcribed_processed_pseudogene\",\n",
    "    \"snoRNA\",\n",
    "    \"snRNA\",\n",
    "    \"scaRNA\",\n",
    "    \"scRNA\",\n",
    "    \"sRNA\",\n",
    "    \"ribozyme\",\n",
    "    \"rRNA_pseudogene\",\n",
    "    \"rRNA\",\n",
    "    \"pseudogene\",\n",
    "    \"processed_pseudogene\",\n",
    "    \"polymorphic_pseudogene\",\n",
    "    \"misc_RNA\",\n",
    "    \"miRNA\",\n",
    "    \"lncRNA\",\n",
    "    \"TR_V_pseudogene\",\n",
    "    \"TR_V_gene\",\n",
    "    \"TR_J_pseudogene\",\n",
    "    \"TR_J_gene\",\n",
    "    \"TR_D_gene\",\n",
    "    \"TR_C_gene\",\n",
    "    \"TEC\",\n",
    "    \"Mt_tRNA\",\n",
    "    \"Mt_rRNA\",\n",
    "    \"IG_V_pseudogene\",\n",
    "    \"IG_V_gene\",\n",
    "    \"IG_J_pseudogene\",\n",
    "    \"IG_J_gene\",\n",
    "    \"IG_D_gene\",\n",
    "    \"IG_C_pseudogene\",\n",
    "    \"IG_C_gene\",\n",
    "]"
   ]
  },
  {
   "cell_type": "code",
   "execution_count": null,
   "metadata": {},
   "outputs": [],
   "source": [
    "# Only plot the first 120 samples\n",
    "plot_gene_biotype_pct_df = pivoted_gene_biotype_pct_df[\n",
    "    pivoted_gene_biotype_pct_df[\"Sample\"].isin(gene_biotype_pct_df.index[:120])\n",
    "]\n",
    "\n",
    "# Plot stacked bar chart beautifully\n",
    "fig = px.bar(\n",
    "    plot_gene_biotype_pct_df,\n",
    "    x=\"Sample\",\n",
    "    color=\"Gene Biotype\",\n",
    "    y=\"Proportion\",\n",
    "    category_orders={\"Gene Biotype\": order},\n",
    "    color_discrete_sequence=px.colors.qualitative.Dark24_r,\n",
    ")\n",
    "\n",
    "# By default opacity is 50%. Set it to 100%\n",
    "fig.update_traces(opacity=1)\n",
    "\n",
    "# Add horizontal line at 95%\n",
    "fig.add_hline(y=0.90, line_width=0.5)\n",
    "\n",
    "# Update axes\n",
    "fig.update_xaxes(\n",
    "    title_standoff=5,\n",
    "    title_font_size=10,\n",
    "    linecolor=\"black\",\n",
    "    linewidth=0.5,\n",
    "    # ticks=\"outside\",\n",
    "    showticklabels=False,\n",
    "    tickfont_size=8,\n",
    "    ticklen=2,\n",
    "    tickwidth=0.5,\n",
    ")\n",
    "fig.update_yaxes(\n",
    "    title_standoff=5,\n",
    "    title_font_size=10,\n",
    "    linecolor=\"black\",\n",
    "    linewidth=0.5,\n",
    "    ticks=\"outside\",\n",
    "    showticklabels=True,\n",
    "    tickfont_size=8,\n",
    "    ticklen=2,\n",
    "    tickwidth=0.5,\n",
    "    dtick=0.1,\n",
    ")\n",
    "\n",
    "# Update layout\n",
    "fig[\"layout\"].update(\n",
    "    font_size=10,\n",
    "    plot_bgcolor=\"rgba(0,0,0,0)\",\n",
    "    legend=dict(\n",
    "        title_font_size=8,\n",
    "        font_size=6,\n",
    "        y=-0.05,\n",
    "        orientation=\"h\",\n",
    "    ),\n",
    "    showlegend=True,\n",
    "    newshape=dict(opacity=1),\n",
    "    margin=dict(t=0, l=0, r=0, b=0),  # Tight margin\n",
    ")\n",
    "\n",
    "fig.write_image(\n",
    "    Path(prefix).joinpath(\"figures/gene_biotype_filtering\").with_suffix(\".png\"),\n",
    "    scale=4,\n",
    "    width=1000,\n",
    "    height=600,\n",
    ")"
   ]
  },
  {
   "attachments": {},
   "cell_type": "markdown",
   "metadata": {},
   "source": [
    "#### Corresponding with conclusion from stacked bar chart, filter out samples with less than 90% counts mapped from protein coding genes"
   ]
  },
  {
   "cell_type": "code",
   "execution_count": null,
   "metadata": {},
   "outputs": [],
   "source": [
    "# First filter samples from Gene Biotype table\n",
    "filtered_gene_biotype_pct_df = gene_biotype_pct_df[\n",
    "    gene_biotype_pct_df[\"protein_coding\"] > 0.9\n",
    "]\n",
    "\n",
    "# Then use filtered indexes to grab sample according\n",
    "filtered_tcga_raw_counts_df = filtered_tcga_raw_counts_df[\n",
    "    filtered_gene_biotype_pct_df.index\n",
    "]"
   ]
  },
  {
   "attachments": {},
   "cell_type": "markdown",
   "metadata": {},
   "source": [
    "#### Save QC-ed counts"
   ]
  },
  {
   "cell_type": "code",
   "execution_count": null,
   "metadata": {},
   "outputs": [],
   "source": [
    "# Collect list of samples that failed QC\n",
    "failed_qc_38_df = pd.DataFrame(\n",
    "    data=[\n",
    "        i\n",
    "        for i in tcga_raw_counts_df.columns\n",
    "        if i not in filtered_tcga_raw_counts_df.columns\n",
    "    ],\n",
    "    columns=[\"sample_label\"],\n",
    ")"
   ]
  },
  {
   "attachments": {},
   "cell_type": "markdown",
   "metadata": {},
   "source": [
    "## Single cell reference"
   ]
  },
  {
   "cell_type": "code",
   "execution_count": null,
   "metadata": {},
   "outputs": [],
   "source": [
    "# First load single-cell data\n",
    "sc_adata = sc.read_10x_mtx(prefix).joinpath(\"data/raw/sc_ref\")\n",
    "sc_df = sc_adata.to_df()\n",
    "\n",
    "# Normalize by Counts-per-10,000\n",
    "normalized_sc_df = sc_df.div(sc_df.sum(axis=1), axis=0) * 10000\n",
    "\n",
    "# Get list of single-cell HUGO genes\n",
    "sc_hugo_genes = sc_df.columns.tolist()"
   ]
  },
  {
   "cell_type": "code",
   "execution_count": null,
   "metadata": {},
   "outputs": [],
   "source": [
    "# Load single-cell labels\n",
    "sc_labels_df = pd.read_csv(\n",
    "    Path(prefix).joinpath(\"data/raw/sc_ref/Whole_miniatlas_meta.csv\"),\n",
    "    index_col=0,\n",
    "    sep=\",\",\n",
    ")\n",
    "sc_labels_df.drop([\"TYPE\"], axis=0, inplace=True)"
   ]
  },
  {
   "cell_type": "code",
   "execution_count": null,
   "metadata": {},
   "outputs": [],
   "source": [
    "# Get HUGO-Ensembl mapping\n",
    "genes_mapping_df = pd.read_csv(\n",
    "    Path(prefix).joinpath(\"data/raw/hugo_ensembl_maps.tsv\"),\n",
    "    sep=\"\\t\",\n",
    "    header=None,\n",
    "    names=[\"hugo\", \"ensembl\"],\n",
    ")\n",
    "genes_mapping_d = {\n",
    "    row[1][\"hugo\"]: row[1][\"ensembl\"]\n",
    "    for row in genes_mapping_df[genes_mapping_df[\"hugo\"].isin(sc_hugo_genes)].iterrows()\n",
    "}\n",
    "\n",
    "# Rename HUGO by Ensembl gene names in single-cell reference\n",
    "for df in tqdm([sc_df, normalized_sc_df]):\n",
    "    df.rename(columns=genes_mapping_d, inplace=True)"
   ]
  },
  {
   "attachments": {},
   "cell_type": "markdown",
   "metadata": {},
   "source": [
    "#### Filter out counts and metadata by training patient ids"
   ]
  },
  {
   "cell_type": "code",
   "execution_count": null,
   "metadata": {},
   "outputs": [],
   "source": [
    "# Filter metadata\n",
    "training_sc_labels_df = sc_labels_df[sc_labels_df[\"Patient\"].isin(train_p_ids)]\n",
    "\n",
    "# Filter raw counts and normalized counts\n",
    "training_sc_df = sc_df[sc_df.index.isin(training_sc_labels_df.index)]\n",
    "training_normalized_sc_df = normalized_sc_df[\n",
    "    normalized_sc_df.index.isin(training_sc_labels_df.index)\n",
    "]"
   ]
  },
  {
   "attachments": {},
   "cell_type": "markdown",
   "metadata": {},
   "source": [
    "#### Save into AnnData objects"
   ]
  },
  {
   "cell_type": "code",
   "execution_count": null,
   "metadata": {},
   "outputs": [],
   "source": [
    "# Observations of AnnData objects are cell-type labels\n",
    "# Variables are Ensembl IDs\n",
    "adata_obs_df = (\n",
    "    training_sc_df.index.to_frame()\n",
    "    .drop([0], axis=1)\n",
    "    .merge(\n",
    "        training_sc_labels_df[\n",
    "            [\"Patient\", \"celltype_major\", \"celltype_minor\", \"celltype_subset\"]\n",
    "        ],\n",
    "        left_index=True,\n",
    "        right_index=True,\n",
    "    )\n",
    ")\n",
    "adata_var_df = training_sc_df.columns.to_frame().drop([1], axis=1)\n",
    "\n",
    "# Raw counts\n",
    "ens_sc_adata = adata.AnnData(\n",
    "    X=training_sc_df.values,\n",
    "    obs=adata_obs_df,\n",
    "    var=adata_var_df,\n",
    "    dtype=\"float64\",\n",
    ")\n",
    "ens_sc_adata.write_h5ad(\n",
    "    Path(prefix).joinpath(\"data/filtered/non_intersect/scRNA_ref_raw.h5ad\")\n",
    ")\n",
    "\n",
    "# Normalized counts\n",
    "ens_normalized_sc_adata = adata.AnnData(\n",
    "    X=training_normalized_sc_df.values,\n",
    "    obs=adata_obs_df,\n",
    "    var=adata_var_df,\n",
    "    dtype=\"float64\",\n",
    ")\n",
    "ens_normalized_sc_adata.write_h5ad(\n",
    "    Path(prefix).joinpath(\"data/filtered/non_intersect/scRNA_ref_normalized.h5ad\")\n",
    ")"
   ]
  },
  {
   "cell_type": "code",
   "execution_count": null,
   "metadata": {},
   "outputs": [],
   "source": [
    "# Save raw bulk counts\n",
    "filtered_tcga_raw_counts_df.to_csv(\n",
    "    Path(prefix).joinpath(f\"data/filtered/non_intersect/tcga_raw_counts.csv\"), sep=\"\\t\"\n",
    ")\n",
    "\n",
    "# Load TPM counts from TCGA and only keep samples that passed QC in filtered_tcga_raw_counts_df\n",
    "tcga_tpm_df = pd.read_csv(\n",
    "    Path(prefix).joinpath(\n",
    "        \"data/raw/tcga_bulk/TCGA_-_breast_cancer_GRCh38_v84.genes.TPM.csv\"\n",
    "    ),\n",
    "    index_col=0,\n",
    "    sep=\",\",\n",
    ")\n",
    "filtered_tcga_tpm_counts_df = tcga_tpm_df[filtered_tcga_raw_counts_df.columns]\n",
    "\n",
    "# Save TPM bulk counts\n",
    "filtered_tcga_tpm_counts_df.to_csv(\n",
    "    Path(prefix).joinpath(f\"data/filtered/non_intersect/tcga_tpm_counts.csv\"), sep=\"\\t\"\n",
    ")"
   ]
  },
  {
   "attachments": {},
   "cell_type": "markdown",
   "metadata": {},
   "source": [
    "## Intersect genes between QC-ed bulk counts and single cell"
   ]
  },
  {
   "cell_type": "code",
   "execution_count": null,
   "metadata": {},
   "outputs": [],
   "source": [
    "# Get intersecting genes\n",
    "intersect_genes = [\n",
    "    gene for gene in training_sc_df.columns if gene in filtered_tcga_raw_counts_df.index\n",
    "]"
   ]
  },
  {
   "attachments": {},
   "cell_type": "markdown",
   "metadata": {},
   "source": [
    "#### Intersect TCGA bulk counts and save it"
   ]
  },
  {
   "cell_type": "code",
   "execution_count": null,
   "metadata": {},
   "outputs": [],
   "source": [
    "# Filter tpm and raw counts in TCGA bulk samples\n",
    "intersect_tpm_counts_df = filtered_tcga_tpm_counts_df.loc[intersect_genes, :]\n",
    "intersect_raw_counts_df = filtered_tcga_raw_counts_df.loc[intersect_genes, :]\n",
    "\n",
    "# Save into csv\n",
    "intersect_tpm_counts_df.to_csv(\n",
    "    Path(prefix).joinpath(f\"data/filtered/intersect/tcga_tpm_counts.csv\"), sep=\"\\t\"\n",
    ")\n",
    "intersect_raw_counts_df.to_csv(\n",
    "    Path(prefix).joinpath(f\"data/filtered/intersect/tcga_raw_counts.csv\"), sep=\"\\t\"\n",
    ")"
   ]
  },
  {
   "attachments": {},
   "cell_type": "markdown",
   "metadata": {},
   "source": [
    "#### Intersect single-cell reference and save it"
   ]
  },
  {
   "cell_type": "code",
   "execution_count": null,
   "metadata": {},
   "outputs": [],
   "source": [
    "# Raw counts\n",
    "intersect_sc_df = training_sc_df[intersect_genes]\n",
    "\n",
    "# Normalized counts\n",
    "intersect_normalized_sc_df = training_normalized_sc_df[intersect_genes]"
   ]
  },
  {
   "cell_type": "code",
   "execution_count": null,
   "metadata": {},
   "outputs": [],
   "source": [
    "# Observations of AnnData objects are cell-type labels\n",
    "# Variables are Ensembl IDs\n",
    "intersect_adata_obs_df = (\n",
    "    intersect_sc_df.index.to_frame()\n",
    "    .drop([0], axis=1)\n",
    "    .merge(\n",
    "        training_sc_labels_df[\n",
    "            [\"Patient\", \"celltype_major\", \"celltype_minor\", \"celltype_subset\"]\n",
    "        ],\n",
    "        left_index=True,\n",
    "        right_index=True,\n",
    "    )\n",
    ")\n",
    "intersect_adata_var_df = intersect_sc_df.columns.to_frame().drop([1], axis=1)\n",
    "\n",
    "# Raw counts\n",
    "intersect_sc_adata = adata.AnnData(\n",
    "    X=intersect_sc_df.values,\n",
    "    obs=intersect_adata_obs_df,\n",
    "    var=intersect_adata_var_df,\n",
    "    dtype=\"float64\",\n",
    ")\n",
    "intersect_sc_adata.write_h5ad(\n",
    "    Path(prefix).joinpath(\"data/filtered/intersect/scRNA_ref_raw.h5ad\")\n",
    ")\n",
    "\n",
    "# Normalized counts\n",
    "intersect_normalized_sc_adata = adata.AnnData(\n",
    "    X=intersect_normalized_sc_df.values,\n",
    "    obs=intersect_adata_obs_df,\n",
    "    var=intersect_adata_var_df,\n",
    "    dtype=\"float64\",\n",
    ")\n",
    "intersect_normalized_sc_adata.write_h5ad(\n",
    "    Path(prefix).joinpath(\"data/filtered/intersect/scRNA_ref_normalized.h5ad\")\n",
    ")"
   ]
  }
 ],
 "metadata": {
  "kernelspec": {
   "display_name": "Python 3.9.12 ('py39')",
   "language": "python",
   "name": "python3"
  },
  "language_info": {
   "codemirror_mode": {
    "name": "ipython",
    "version": 3
   },
   "file_extension": ".py",
   "mimetype": "text/x-python",
   "name": "python",
   "nbconvert_exporter": "python",
   "pygments_lexer": "ipython3"
  },
  "vscode": {
   "interpreter": {
    "hash": "4dbfd5e0594ce662354ff192ed6e22a3ed6754bf4a1138f4d535b73aa6171aca"
   }
  }
 },
 "nbformat": 4,
 "nbformat_minor": 4
}
