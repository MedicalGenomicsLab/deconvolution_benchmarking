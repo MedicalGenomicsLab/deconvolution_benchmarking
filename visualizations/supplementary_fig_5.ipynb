{
 "cells": [
  {
   "cell_type": "markdown",
   "id": "58b7cc55-3b46-46c2-bdd6-6e34ffdc37f1",
   "metadata": {},
   "source": [
    "# Visualize models performance "
   ]
  },
  {
   "cell_type": "code",
   "execution_count": null,
   "id": "b09a63a1-8e52-493c-b685-5a419fa97191",
   "metadata": {},
   "outputs": [],
   "source": [
    "import numpy as np\n",
    "import pandas as pd\n",
    "import anndata as adata\n",
    "\n",
    "from tqdm import tqdm\n",
    "from pathlib import Path\n",
    "from typing import Tuple, List, Dict\n",
    "\n",
    "import plotly.graph_objects as go\n",
    "import plotly as plotly\n",
    "import plotly.express as px\n",
    "import plotly.figure_factory as ff\n",
    "from plotly.subplots import make_subplots\n",
    "\n",
    "from sklearn.metrics import mean_squared_error, confusion_matrix\n",
    "from sklearn.metrics.pairwise import cosine_similarity as skl_cosine\n",
    "\n",
    "from scipy.stats import pearsonr\n",
    "from scipy.spatial.distance import cosine as scipy_cosine\n",
    "from scipy.spatial.distance import braycurtis, cdist\n",
    "from math import sqrt\n",
    "\n",
    "%load_ext blackcellmagic"
   ]
  },
  {
   "cell_type": "code",
   "execution_count": null,
   "id": "d52cef7f-433e-4db0-8f5f-942d374522df",
   "metadata": {},
   "outputs": [],
   "source": [
    "# Prefix to visualizations folder\n",
    "viz_prefix = \"???/deconvolution_benchmarking/visualizations\"\n",
    "\n",
    "# Prefix to the experiment we're plotting\n",
    "prefix = \"???/deconvolution_benchmarking/01_purity_levels_experiment/include_normal_epithelial\"\n",
    "\n",
    "# Tumour purity levels\n",
    "purity_levels = np.arange(0.05, 1, 0.05).round(3).tolist()\n",
    "\n",
    "# Major cell types\n",
    "c_types = [\n",
    "    \"Cancer Epithelial\",\n",
    "    \"Normal Epithelial\",\n",
    "    \"T-cells\",\n",
    "    \"B-cells\",\n",
    "    \"Myeloid\",\n",
    "    \"CAFs\",\n",
    "    \"Endothelial\",\n",
    "    \"PVL\",\n",
    "    \"Plasmablasts\",\n",
    "]"
   ]
  },
  {
   "cell_type": "markdown",
   "id": "77080247",
   "metadata": {},
   "source": [
    "### Load groundtruth"
   ]
  },
  {
   "cell_type": "code",
   "execution_count": null,
   "id": "f562086a-5077-43a2-989e-422ee88109af",
   "metadata": {},
   "outputs": [],
   "source": [
    "# Load truth.csv\n",
    "truth_df = pd.read_csv(\n",
    "    Path(prefix).joinpath(\"data/results/truth.csv\"), sep=\"\\t\", index_col=0\n",
    ")\n",
    "truth_df = truth_df[c_types]\n",
    "\n",
    "# Pivot longer for when we need it\n",
    "truth_copy_df = truth_df.copy().sample(frac=0.05, random_state=41)\n",
    "truth_copy_df[\"purity_level\"] = truth_copy_df[\"Cancer Epithelial\"]\n",
    "\n",
    "pivot_truth_df = (\n",
    "    truth_copy_df.reset_index()\n",
    "    .melt(id_vars=[\"index\", \"purity_level\"], value_vars=c_types)\n",
    "    .rename(columns={\"index\": \"mixture_id\", \"variable\": \"cell_type\", \"value\": \"truth\"})\n",
    "    .set_index([\"mixture_id\", \"cell_type\"])\n",
    ")"
   ]
  },
  {
   "cell_type": "markdown",
   "id": "3565677a",
   "metadata": {},
   "source": [
    "### Extract colour pallete"
   ]
  },
  {
   "cell_type": "code",
   "execution_count": null,
   "id": "883f8f20",
   "metadata": {},
   "outputs": [],
   "source": [
    "# Extract colour pallete\n",
    "ctype_colour_pallete_df = pd.read_csv(\n",
    "    Path(prefix).joinpath(\"data/Whole_miniatlas_colour_pallete.csv\"), sep=\"\\t\"\n",
    ")\n",
    "\n",
    "# Convert to dictionary\n",
    "ctype_colour_pallete_d = {\n",
    "    row[\"all_celltype\"]: {\"fill\": row[\"fill\"], \"line\": row[\"line\"]}\n",
    "    for i, row in ctype_colour_pallete_df.iterrows()\n",
    "}"
   ]
  },
  {
   "cell_type": "markdown",
   "id": "cac15255",
   "metadata": {},
   "source": [
    "## [Fig]. Box plot of CPM across purity levels"
   ]
  },
  {
   "cell_type": "code",
   "execution_count": null,
   "id": "35805959",
   "metadata": {},
   "outputs": [],
   "source": [
    "# Read predictions for CPM\n",
    "method = \"cpm\"\n",
    "\n",
    "res_df = pd.read_csv(\n",
    "    Path(prefix).joinpath(f\"data/results/{method}.csv\"), sep=\"\\t\", index_col=0\n",
    ")\n",
    "res_df = res_df[c_types]\n",
    "res_df[res_df < 0] = 0\n",
    "\n",
    "# Clone a version of truth_df and make a new column\n",
    "truth_copy_df = truth_df.copy()\n",
    "truth_copy_df[\"Purity Level\"] = truth_copy_df[\"Cancer Epithelial\"]\n",
    "\n",
    "# Pivot predictions and groundtruth\n",
    "pivot_truth_df = (\n",
    "    truth_copy_df.reset_index()\n",
    "    .melt(id_vars=[\"index\", \"Purity Level\"])\n",
    "    .rename(\n",
    "        columns={\n",
    "            \"index\": \"Mixture ID\",\n",
    "            \"variable\": \"Cell Type\",\n",
    "            \"value\": \"Actual Proportion\",\n",
    "        }\n",
    "    )\n",
    ")\n",
    "pivot_res_df = (\n",
    "    res_df.reset_index()\n",
    "    .melt(id_vars=[\"index\"])\n",
    "    .rename(\n",
    "        columns={\n",
    "            \"index\": \"Mixture ID\",\n",
    "            \"variable\": \"Cell Type\",\n",
    "            \"value\": \"Predicted Proportion\",\n",
    "        }\n",
    "    )\n",
    ")\n",
    "\n",
    "# Merge pivoted predictions and groundutrht\n",
    "pivot_truth_res_df = pivot_res_df.merge(\n",
    "    pivot_truth_df, on=[\"Mixture ID\", \"Cell Type\"], how=\"outer\"\n",
    ")\n",
    "pivot_truth_res_df.set_index([\"Mixture ID\"], inplace=True)\n",
    "\n",
    "# Filter by reduced tumour purity levels\n",
    "reduced_purity_levels = np.arange(0.05, 1, 0.15).round(3).tolist()\n",
    "pivot_truth_res_df = pivot_truth_res_df[\n",
    "    pivot_truth_res_df[\"Purity Level\"].isin(reduced_purity_levels)\n",
    "]\n",
    "\n",
    "# Multiply actual and predicted proportions by 100\n",
    "pivot_truth_res_df[\"Predicted Proportion\"] = (\n",
    "    pivot_truth_res_df[\"Predicted Proportion\"] * 100\n",
    ")\n",
    "pivot_truth_res_df[\"Actual Proportion\"] = pivot_truth_res_df[\"Actual Proportion\"] * 100"
   ]
  },
  {
   "cell_type": "code",
   "execution_count": null,
   "id": "43d21935",
   "metadata": {},
   "outputs": [],
   "source": [
    "# Save to source data\n",
    "pivot_truth_res_df.to_csv(\n",
    "    Path(viz_prefix).joinpath(\"source_data/supp_figure_5.tsv\"), sep=\"\\t\"\n",
    ")"
   ]
  },
  {
   "cell_type": "code",
   "execution_count": null,
   "id": "1f82551f",
   "metadata": {},
   "outputs": [],
   "source": [
    "fig = px.box(\n",
    "    pivot_truth_res_df,\n",
    "    x=\"Purity Level\",\n",
    "    y=\"Predicted Proportion\",\n",
    "    color=\"Cell Type\",\n",
    "    color_discrete_map={i: v[\"line\"] for i, v in ctype_colour_pallete_d.items()},\n",
    ")\n",
    "\n",
    "# Update trace properties for main plots\n",
    "fig.update_traces(marker=dict(size=2.5), line=dict(width=0.8))\n",
    "\n",
    "# Update axes of main plot\n",
    "fig.update_yaxes(\n",
    "    title=\"Predicted proportion (%)\",\n",
    "    linecolor=\"black\",\n",
    "    linewidth=0.8,\n",
    "    ticks=\"outside\",\n",
    "    # showticklabels=True, # Hide this so subplot share the same ticklabels\n",
    "    ticklen=3,\n",
    "    tickfont_size=9,\n",
    "    title_font_size=10,\n",
    "    title_standoff=5,\n",
    "    showgrid=True,\n",
    "    gridwidth=0.75,\n",
    "    gridcolor=\"lightgray\",\n",
    "    range=[0, 26],\n",
    "    dtick=5,\n",
    ")\n",
    "fig.update_xaxes(\n",
    "    title=\"Tumour purity levels (%)\",\n",
    "    linecolor=\"black\",\n",
    "    linewidth=0.8,\n",
    "    ticks=\"outside\",\n",
    "    ticklen=3,\n",
    "    # showticklabels=True, # Hide this so subplot share the same ticklabels\n",
    "    tickfont_size=9,\n",
    "    title_font_size=10,\n",
    "    title_standoff=5,\n",
    ")\n",
    "\n",
    "# Tight margin\n",
    "fig.update_layout(\n",
    "    margin=dict(t=0, l=0, r=0, b=0),\n",
    ")\n",
    "\n",
    "fig[\"layout\"].update(\n",
    "    plot_bgcolor=\"rgba(0,0,0,0)\", showlegend=False, font=dict(size=9, color=\"black\")\n",
    ")\n",
    "\n",
    "fig.write_image(\n",
    "    Path(viz_prefix)\n",
    "    .joinpath(\"figures/supp_figures/supp_fig_5.svg\")\n",
    "    .with_suffix(\".svg\"),\n",
    "    height=300,\n",
    "    width=600,\n",
    "    scale=5,\n",
    ")"
   ]
  }
 ],
 "metadata": {
  "kernelspec": {
   "display_name": "py36",
   "language": "python",
   "name": "python3"
  },
  "language_info": {
   "codemirror_mode": {
    "name": "ipython",
    "version": 3
   },
   "file_extension": ".py",
   "mimetype": "text/x-python",
   "name": "python",
   "nbconvert_exporter": "python",
   "pygments_lexer": "ipython3"
  },
  "vscode": {
   "interpreter": {
    "hash": "8e21e3183055704cdc6beb302a7eaad42e1c0671a451dc4bde87185c59632390"
   }
  }
 },
 "nbformat": 4,
 "nbformat_minor": 5
}
